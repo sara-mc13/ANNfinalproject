{
 "cells": [
  {
   "cell_type": "code",
   "execution_count": 19,
   "id": "9f6d683f",
   "metadata": {},
   "outputs": [],
   "source": [
    "import pandas as pd\n",
    "import numpy as np\n",
    "from numpy.linalg import norm"
   ]
  },
  {
   "cell_type": "code",
   "execution_count": 23,
   "id": "e876cf65",
   "metadata": {},
   "outputs": [],
   "source": [
    "# get song data in terms of audio features and track uri and put into data frame \n",
    "import pickle \n",
    "with open('audio_features.pickle', 'rb') as handle:\n",
    "    audio_features = pickle.load(handle)\n",
    "    \n",
    "audio_features_df = pd.DataFrame.from_dict(audio_features, orient='index')\n",
    "\n",
    "# get set of songs to get song names and artists \n",
    "with open('song_set.pickle', 'rb') as handle:\n",
    "    song_set = pickle.load(handle)"
   ]
  },
  {
   "cell_type": "code",
   "execution_count": 239,
   "id": "2c4ab43f",
   "metadata": {},
   "outputs": [
    {
     "name": "stdout",
     "output_type": "stream",
     "text": [
      "accousticness         0.9820\n",
      "danceability          0.1590\n",
      "energy                0.0262\n",
      "instrumentalness      0.1210\n",
      "liveness              0.1190\n",
      "loudness            -31.5080\n",
      "speechiness           0.0450\n",
      "tempo               133.3320\n",
      "valence               0.0332\n",
      "Name: spotify:track:1lDpiiuPKTJwj7dTGlJt13, dtype: float64\n",
      "517127\n",
      "(\"L'enfance du Christ: Part III, L’Arrivée à Saïs - epilogue - O mon âme\", 'spotify:track:1lDpiiuPKTJwj7dTGlJt13', 'Hector Berlioz')\n"
     ]
    }
   ],
   "source": [
    "print(audio_features_df.iloc[250658])\n",
    "print(tracks.index('spotify:track:1lDpiiuPKTJwj7dTGlJt13'))\n",
    "print(song_list[517127])"
   ]
  },
  {
   "cell_type": "code",
   "execution_count": 24,
   "id": "86e02978",
   "metadata": {},
   "outputs": [],
   "source": [
    "# gettig just the track uri's \n",
    "song_list = list(song_set)\n",
    "tracks = []\n",
    "for song in song_list:\n",
    "    tracks.append(song[1])\n",
    "\n",
    "# get audio features into numpy array format \n",
    "audio_features_np = audio_features_df.to_numpy()"
   ]
  },
  {
   "cell_type": "code",
   "execution_count": 20,
   "id": "0c22a471",
   "metadata": {},
   "outputs": [],
   "source": [
    "# creating our own knn function to compare the input song values with each song in the data frame \n",
    "def knn(data, query, k, distance_fn, choice_fn):\n",
    "    neighbor_distances_and_indices = []\n",
    "    \n",
    "    for index, example in enumerate(data):\n",
    "        distance = distance_fn(example, query)\n",
    "        \n",
    "        neighbor_distances_and_indices.append((distance, index))\n",
    "    \n",
    "    sorted_neighbor_distances_and_indices = sorted(neighbor_distances_and_indices, reverse = True)\n",
    "    \n",
    "    k_nearest_distances_and_indices = sorted_neighbor_distances_and_indices[:k]\n",
    "    \n",
    "    k_nearest_labels = [data[i][0] for distance, i in k_nearest_distances_and_indices]\n",
    "\n",
    "    return k_nearest_distances_and_indices , choice_fn(k_nearest_labels)\n",
    "\n",
    "# our similarity function \n",
    "def cosine_similarity(A, B):\n",
    "    return np.dot(A,B)/(norm(A)*norm(B))"
   ]
  },
  {
   "cell_type": "code",
   "execution_count": 30,
   "id": "12fa3f08",
   "metadata": {},
   "outputs": [
    {
     "name": "stdout",
     "output_type": "stream",
     "text": [
      "[(0.9999873831978005, 250658), (0.999984327433068, 1456960), (0.9999808816574092, 906297), (0.9999806414818998, 1213216), (0.9999799380128723, 649844)]\n"
     ]
    }
   ],
   "source": [
    "# query is the input vector that the similarity is being found for \n",
    "query = [0.9820, .1590, .0262, .1210, .1190, -.3155080, .0450, 133.3320, 0.0332]\n",
    "\n",
    "# k is the number of similar songs we want to generate \n",
    "k = 5\n",
    "dist_index, labels = knn(audio_features_np, query, k, cosine_similarity, lambda x: None)\n",
    "print(dist_index)"
   ]
  },
  {
   "cell_type": "code",
   "execution_count": 32,
   "id": "63842913",
   "metadata": {},
   "outputs": [
    {
     "name": "stdout",
     "output_type": "stream",
     "text": [
      "Here are your top 5 recommendations!\n",
      "1: Xmas Curtain by My Morning Jacket\n",
      "2: My Cousin, All Grown Up by Our Griffins\n",
      "3: Dimentica Paris by Marchio Bossa\n",
      "4: New Big Prinz by The Fall\n",
      "5: The Peasant by Weather Report\n",
      "Here are your top 5 recommendations!\n",
      "1: My Cousin, All Grown Up by Our Griffins\n",
      "2: Xmas Curtain by My Morning Jacket\n",
      "3: New Big Prinz by The Fall\n",
      "4: The Peasant by Weather Report\n",
      "5: Purple Tree by June Marieezy\n",
      "Here are your top 5 recommendations!\n",
      "1: My Cousin, All Grown Up by Our Griffins\n",
      "2: Xmas Curtain by My Morning Jacket\n",
      "3: New Big Prinz by The Fall\n",
      "4: The Peasant by Weather Report\n",
      "5: Purple Tree by June Marieezy\n",
      "Here are your top 5 recommendations!\n",
      "1: My Cousin, All Grown Up by Our Griffins\n",
      "2: Xmas Curtain by My Morning Jacket\n",
      "3: New Big Prinz by The Fall\n",
      "4: The Peasant by Weather Report\n",
      "5: Purple Tree by June Marieezy\n",
      "Here are your top 5 recommendations!\n",
      "1: My Cousin, All Grown Up by Our Griffins\n",
      "2: Xmas Curtain by My Morning Jacket\n",
      "3: New Big Prinz by The Fall\n",
      "4: The Peasant by Weather Report\n",
      "5: Purple Tree by June Marieezy\n",
      "Here are your top 5 recommendations!\n",
      "1: My Cousin, All Grown Up by Our Griffins\n",
      "2: Xmas Curtain by My Morning Jacket\n",
      "3: New Big Prinz by The Fall\n",
      "4: The Peasant by Weather Report\n",
      "5: Purple Tree by June Marieezy\n",
      "Here are your top 5 recommendations!\n",
      "1: Xmas Curtain by My Morning Jacket\n",
      "2: My Cousin, All Grown Up by Our Griffins\n",
      "3: New Big Prinz by The Fall\n",
      "4: The Peasant by Weather Report\n",
      "5: Purple Tree by June Marieezy\n",
      "Here are your top 5 recommendations!\n",
      "1: My Cousin, All Grown Up by Our Griffins\n",
      "2: Xmas Curtain by My Morning Jacket\n",
      "3: New Big Prinz by The Fall\n",
      "4: The Peasant by Weather Report\n",
      "5: Purple Tree by June Marieezy\n",
      "Here are your top 5 recommendations!\n",
      "1: Xmas Curtain by My Morning Jacket\n",
      "2: My Cousin, All Grown Up by Our Griffins\n",
      "3: Purple Tree by June Marieezy\n",
      "4: New Big Prinz by The Fall\n",
      "5: The Peasant by Weather Report\n",
      "Here are your top 5 recommendations!\n",
      "1: My Cousin, All Grown Up by Our Griffins\n",
      "2: Xmas Curtain by My Morning Jacket\n",
      "3: New Big Prinz by The Fall\n",
      "4: The Peasant by Weather Report\n",
      "5: Purple Tree by June Marieezy\n"
     ]
    },
    {
     "ename": "SyntaxError",
     "evalue": "invalid syntax. Perhaps you forgot a comma? (<string>, line 1)",
     "output_type": "error",
     "traceback": [
      "Traceback \u001b[0;36m(most recent call last)\u001b[0m:\n",
      "\u001b[0m  File \u001b[1;32m/usr/local/lib/python3.10/site-packages/IPython/core/interactiveshell.py:3442\u001b[0m in \u001b[1;35mrun_code\u001b[0m\n    exec(code_obj, self.user_global_ns, self.user_ns)\u001b[0m\n",
      "\u001b[0;36m  Cell \u001b[0;32mIn[32], line 8\u001b[0;36m\n\u001b[0;31m    query = [float(i) for i in eval(query)]\u001b[0;36m\n",
      "\u001b[0;36m  File \u001b[0;32m<string>:1\u001b[0;36m\u001b[0m\n\u001b[0;31m    [3.54416103e-01, 5.46706956e-01, 5.83455303e-01, 2.32405587e-01, 2.10333346e-01, -9.80647641e+00, 9.05226970e-02  1.19461048e+02, 4.68085729e-01]\u001b[0m\n\u001b[0m                                                                                                      ^\u001b[0m\n\u001b[0;31mSyntaxError\u001b[0m\u001b[0;31m:\u001b[0m invalid syntax. Perhaps you forgot a comma?\n"
     ]
    }
   ],
   "source": [
    "# open predicted_audio_features.txt and convert to a list of lists\n",
    "with open('predicted_audio_features.txt', 'r') as f:\n",
    "    predicted_audio_features = f.read()\n",
    "\n",
    "predicted_audio_features = predicted_audio_features.split('\\n')\n",
    "song_recs = []\n",
    "for query in predicted_audio_features:\n",
    "    query = [float(i) for i in eval(query)]\n",
    "    dist_index, labels = knn(audio_features_np, query, 5, cosine_similarity, lambda x: None)\n",
    "    # now get the track uri's of the top songs \n",
    "    target_array = audio_features_df.index.tolist()\n",
    "\n",
    "    # get just uris \n",
    "    uris = []\n",
    "    for x in dist_index:\n",
    "        ind = x[1]\n",
    "        uris.append(target_array[ind])\n",
    "\n",
    "\n",
    "    # get the indexes of the recommendations \n",
    "    index_recs = []\n",
    "    for y in uris:\n",
    "        index_recs.append(tracks.index(y))\n",
    "\n",
    "\n",
    "    # go back and get the name and artist \n",
    "    song_names = []\n",
    "    artists = []\n",
    "    for z in index_recs:\n",
    "        song_names.append(song_list[z][0])\n",
    "        artists.append(song_list[z][2])\n",
    "\n",
    "    song_recs.append(song_names)\n",
    "\n",
    "    # print out the song and artist recommendations \n",
    "    print(\"Here are your top \" + str(k) + \" recommendations!\")\n",
    "    for w in range(k):\n",
    "        print(str(w+1) + \": \" + song_names[w] + \" by \" + artists[w])\n",
    "    print(\"\\n\")"
   ]
  }
 ],
 "metadata": {
  "kernelspec": {
   "display_name": "Python 3 (ipykernel)",
   "language": "python",
   "name": "python3"
  },
  "language_info": {
   "codemirror_mode": {
    "name": "ipython",
    "version": 3
   },
   "file_extension": ".py",
   "mimetype": "text/x-python",
   "name": "python",
   "nbconvert_exporter": "python",
   "pygments_lexer": "ipython3",
   "version": "3.10.7"
  }
 },
 "nbformat": 4,
 "nbformat_minor": 5
}
